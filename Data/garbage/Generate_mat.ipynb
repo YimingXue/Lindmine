{
 "cells": [
  {
   "cell_type": "code",
   "execution_count": 1,
   "metadata": {},
   "outputs": [],
   "source": [
    "import scipy.io as sio\n",
    "import numpy as np\n",
    "import h5py"
   ]
  },
  {
   "cell_type": "code",
   "execution_count": 18,
   "metadata": {},
   "outputs": [],
   "source": [
    "garbage_crop_23 = h5py.File('garbage_crop_23.mat','r')\n",
    "garbage_crop_23 = garbage_crop_23['garbage_crop_23']"
   ]
  },
  {
   "cell_type": "code",
   "execution_count": 19,
   "metadata": {},
   "outputs": [],
   "source": [
    "garbage_crop_23 = np.array(garbage_crop_23)"
   ]
  },
  {
   "cell_type": "code",
   "execution_count": 20,
   "metadata": {},
   "outputs": [
    {
     "name": "stdout",
     "output_type": "stream",
     "text": [
      "(1677, 3000, 63)\n"
     ]
    }
   ],
   "source": [
    "type(garbage_crop_23)\n",
    "garbage_crop_23 = garbage_crop_23.transpose((2,1,0))\n",
    "print(garbage_crop_23.shape)"
   ]
  },
  {
   "cell_type": "code",
   "execution_count": 21,
   "metadata": {},
   "outputs": [],
   "source": [
    "sio.savemat('garbage_crop_23.mat',{'garbage_crop_23' : garbage_crop_23})"
   ]
  },
  {
   "cell_type": "markdown",
   "metadata": {},
   "source": [
    "### Test"
   ]
  },
  {
   "cell_type": "code",
   "execution_count": 32,
   "metadata": {},
   "outputs": [
    {
     "name": "stdout",
     "output_type": "stream",
     "text": [
      "(957, 1493, 63)\n",
      "(957, 1493)\n"
     ]
    }
   ],
   "source": [
    "dataset = 'garbage_crop_75'\n",
    "\n",
    "garbage_crop = sio.loadmat(dataset + '.mat')[dataset]\n",
    "print(garbage_crop.shape)\n",
    "garbage_crop_gt = sio.loadmat(dataset + '_gt.mat')[dataset + '_gt']\n",
    "print(garbage_crop_gt.shape)"
   ]
  },
  {
   "cell_type": "code",
   "execution_count": null,
   "metadata": {},
   "outputs": [],
   "source": []
  }
 ],
 "metadata": {
  "kernelspec": {
   "display_name": "Python 3",
   "language": "python",
   "name": "python3"
  },
  "language_info": {
   "codemirror_mode": {
    "name": "ipython",
    "version": 3
   },
   "file_extension": ".py",
   "mimetype": "text/x-python",
   "name": "python",
   "nbconvert_exporter": "python",
   "pygments_lexer": "ipython3",
   "version": "3.7.1"
  }
 },
 "nbformat": 4,
 "nbformat_minor": 2
}
