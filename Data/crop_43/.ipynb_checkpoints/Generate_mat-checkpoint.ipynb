{
 "cells": [
  {
   "cell_type": "code",
   "execution_count": 25,
   "metadata": {},
   "outputs": [],
   "source": [
    "import scipy.io as sio\n",
    "import numpy as np\n",
    "import h5py"
   ]
  },
  {
   "cell_type": "code",
   "execution_count": 44,
   "metadata": {},
   "outputs": [],
   "source": [
    "crop_43_mat = h5py.File('crop_43.mat','r')\n",
    "crop_43 = crop_43_mat['data']\n",
    "crop_43 = np.array(crop_43)\n",
    "crop_43.shape"
   ]
  },
  {
   "cell_type": "code",
   "execution_count": 47,
   "metadata": {},
   "outputs": [
    {
     "name": "stdout",
     "output_type": "stream",
     "text": [
      "(2001, 2701, 63)\n"
     ]
    }
   ],
   "source": [
    "type(crop_43)\n",
    "crop_43 = crop_43.transpose((2,1,0))\n",
    "print(crop_43.shape)"
   ]
  },
  {
   "cell_type": "code",
   "execution_count": 49,
   "metadata": {},
   "outputs": [
    {
     "name": "stdout",
     "output_type": "stream",
     "text": [
      "(2000, 2700, 63)\n"
     ]
    }
   ],
   "source": [
    "crop_43 = crop_43[:2000,:2700,:]\n",
    "print(crop_43.shape)"
   ]
  },
  {
   "cell_type": "code",
   "execution_count": 50,
   "metadata": {},
   "outputs": [],
   "source": [
    "sio.savemat('crop_43_1.mat',{'crop_43' : crop_43})"
   ]
  },
  {
   "cell_type": "code",
   "execution_count": 51,
   "metadata": {},
   "outputs": [],
   "source": [
    "crop_43_gt = sio.loadmat('crop_43_gt.mat')['patch_gt']\n",
    "sio.savemat('crop_43_gt.mat', {'crop_43_gt': crop_43_gt})"
   ]
  },
  {
   "cell_type": "code",
   "execution_count": null,
   "metadata": {},
   "outputs": [],
   "source": []
  },
  {
   "cell_type": "code",
   "execution_count": 52,
   "metadata": {},
   "outputs": [
    {
     "name": "stdout",
     "output_type": "stream",
     "text": [
      "(2000, 2700, 63)\n"
     ]
    }
   ],
   "source": [
    "crop_43 = sio.loadmat('crop_43.mat')['crop_43']\n",
    "print(crop_43.shape)"
   ]
  },
  {
   "cell_type": "code",
   "execution_count": 53,
   "metadata": {},
   "outputs": [
    {
     "name": "stdout",
     "output_type": "stream",
     "text": [
      "(2000, 2700)\n"
     ]
    }
   ],
   "source": [
    "crop_43_gt = sio.loadmat('crop_43_gt.mat')['crop_43_gt']\n",
    "print(crop_43_gt.shape)"
   ]
  },
  {
   "cell_type": "code",
   "execution_count": null,
   "metadata": {},
   "outputs": [],
   "source": []
  }
 ],
 "metadata": {
  "kernelspec": {
   "display_name": "Python 3",
   "language": "python",
   "name": "python3"
  },
  "language_info": {
   "codemirror_mode": {
    "name": "ipython",
    "version": 3
   },
   "file_extension": ".py",
   "mimetype": "text/x-python",
   "name": "python",
   "nbconvert_exporter": "python",
   "pygments_lexer": "ipython3",
   "version": "3.7.1"
  }
 },
 "nbformat": 4,
 "nbformat_minor": 2
}
