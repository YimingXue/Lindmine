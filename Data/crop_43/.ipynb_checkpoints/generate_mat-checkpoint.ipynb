{
 "cells": [
  {
   "cell_type": "code",
   "execution_count": 216,
   "metadata": {},
   "outputs": [
    {
     "data": {
      "text/plain": [
       "'/home/xueyiming/Landmine/Data/crop_43/crop_43_gt.mat'"
      ]
     },
     "execution_count": 216,
     "metadata": {},
     "output_type": "execute_result"
    }
   ],
   "source": [
    "import numpy as np\n",
    "import random\n",
    "import scipy.io as sio\n",
    "import matplotlib.pyplot as plt\n",
    "import math\n",
    "import os\n",
    "import shutil\n",
    "\n",
    "def vis(gt, path='/home/xueyiming/Landmine/Data/crop_43/crop_43'):\n",
    "    # 可视化gt图像\n",
    "    height = gt.shape[0]\n",
    "    width = gt.shape[1]\n",
    "    img = np.zeros([height, width, 3], dtype = np.uint8)\n",
    "    for h in range(height):\n",
    "        for w in range(width):\n",
    "            if gt[h, w] == 1:\n",
    "                img[h, w, :] = (0, 255, 0)\n",
    "            elif gt[h, w] == 2:\n",
    "                img[h, w, :] = (0,128,0)\n",
    "            elif gt[h, w] == 3:\n",
    "                img[h, w, :] = (255,255,0)\n",
    "            elif gt[h, w] == 4:\n",
    "                img[h, w, :] = (255,174,200)\n",
    "            elif gt[h, w] == 5:\n",
    "                img[h, w, :] = (128,0,0)\n",
    "            elif gt[h, w] == 6:\n",
    "                img[h, w, :] = (0,128,192)\n",
    "            elif gt[h, w] == 7:\n",
    "                img[h, w, :] = (0,0,255)\n",
    "            elif gt[h, w] == 8:\n",
    "                img[h, w, :] = (253,236,166)\n",
    "            elif gt[h, w] == 9:\n",
    "                img[h, w, :] = (255,202,24)\n",
    "            elif gt[h, w] == 10:\n",
    "                img[h, w, :] = (255,127,39)\n",
    "            elif gt[h, w] == 11:\n",
    "                img[h, w, :] = (185,122,86)\n",
    "            elif gt[h, w] == 12:\n",
    "                img[h, w, :] = (255,0,0)\n",
    "            elif gt[h, w] == 13:\n",
    "                img[h, w, :] = (255,128,128)\n",
    "            elif gt[h, w] == 14:\n",
    "                img[h, w, :] = (200,100,100)\n",
    "            elif gt[h, w] == 15:\n",
    "                img[h, w, :] = (72,30,7)\n",
    "            else:\n",
    "                img[h, w, :] = (255, 255, 255)\n",
    "\n",
    "    plt.imshow(img)\n",
    "    figure = plt.gcf()\n",
    "    figure.savefig(path, format='eps',dpi=600)\n",
    "\n",
    "if(os.path.exists('/home/xueyiming/Landmine/Data/crop_43/crop_43.mat')):\n",
    "    os.remove('/home/xueyiming/Landmine/Data/crop_43/crop_43.mat')\n",
    "if(os.path.exists('/home/xueyiming/Landmine/Data/crop_43/crop_43_gt.mat')):\n",
    "    os.remove('/home/xueyiming/Landmine/Data/crop_43/crop_43_gt.mat')\n",
    "\n",
    "shutil.copyfile('/home/xueyiming/Landmine/Data/crop_43/origin/crop_43.mat','/home/xueyiming/Landmine/Data/crop_43/crop_43.mat')\n",
    "shutil.copyfile('/home/xueyiming/Landmine/Data/crop_43/origin/crop_43_gt.mat','/home/xueyiming/Landmine/Data/crop_43/crop_43_gt.mat')"
   ]
  },
  {
   "cell_type": "code",
   "execution_count": 217,
   "metadata": {},
   "outputs": [
    {
     "name": "stdout",
     "output_type": "stream",
     "text": [
      "data.shape: (2000, 2700, 63), gt.shape: (2000, 2700)\n",
      "(250, 300)\n",
      "[ 0  1  3  6  9 13 14]\n"
     ]
    },
    {
     "data": {
      "image/png": "[encoded data removed]",
      "text/plain": [
       "<Figure size 432x288 with 1 Axes>"
      ]
     },
     "metadata": {
      "needs_background": "light"
     },
     "output_type": "display_data"
    }
   ],
   "source": [
    "# 设置随机数\n",
    "# 训练用66，测试用6\n",
    "random.seed(6)\n",
    "np.random.seed(6)\n",
    "# 导入数据和gt\n",
    "data = sio.loadmat('/home/xueyiming/Landmine/Data/crop_43/crop_43.mat')['crop_43']\n",
    "gt = sio.loadmat('/home/xueyiming/Landmine/Data/crop_43/crop_43_gt.mat')['crop_43_gt']\n",
    "print('data.shape: {}, gt.shape: {}'.format(data.shape, gt.shape))\n",
    "\n",
    "# 裁剪data和gt，不用全部数据进行验证\n",
    "data = data[750:1000, 1000:1300]\n",
    "gt = gt[750:1000, 1000:1300]\n",
    "print(gt.shape)\n",
    "\n",
    "# 可视化gt图像\n",
    "vis(gt)\n",
    "print(np.unique(gt))"
   ]
  },
  {
   "cell_type": "code",
   "execution_count": 218,
   "metadata": {},
   "outputs": [
    {
     "name": "stdout",
     "output_type": "stream",
     "text": [
      "[ 0  1  3  6  9 13 14]\n",
      "[0 1 2 3 4 5 6]\n"
     ]
    }
   ],
   "source": [
    "print(np.unique(gt))\n",
    "for h in range(height):\n",
    "    for w in range(width):\n",
    "        if gt[h][w] == 3:\n",
    "            gt[h][w] = 2\n",
    "        elif gt[h][w] == 6:\n",
    "            gt[h][w] = 3\n",
    "        elif gt[h][w] == 9:\n",
    "            gt[h][w] = 4\n",
    "        elif gt[h][w] == 13:\n",
    "            gt[h][w] = 5\n",
    "        elif gt[h][w] == 14:\n",
    "            gt[h][w] = 6\n",
    "print(np.unique(gt))"
   ]
  },
  {
   "cell_type": "code",
   "execution_count": 219,
   "metadata": {},
   "outputs": [
    {
     "name": "stdout",
     "output_type": "stream",
     "text": [
      "53241\n",
      "class: 1, index.shape: (4220, 2), landmine_index.shape: (422, 2)\n",
      "class: 2, index.shape: (2435, 2), landmine_index.shape: (243, 2)\n",
      "class: 3, index.shape: (247, 2), landmine_index.shape: (24, 2)\n",
      "class: 4, index.shape: (14029, 2), landmine_index.shape: (1402, 2)\n",
      "class: 5, index.shape: (6480, 2), landmine_index.shape: (648, 2)\n",
      "class: 6, index.shape: (8687, 2), landmine_index.shape: (868, 2)\n"
     ]
    }
   ],
   "source": [
    "# 对除了7之外的14个类别，取出其中每个类别sample_percent个样本添加spectral_main和噪声\n",
    "# 将其作为新的第7个类别，即Landmine\n",
    "\n",
    "# 导入Painted sheet shell谱带\n",
    "spectral_inf = sio.loadmat('/home/xueyiming/Landmine/Data/crop_43/spectral_inf.mat')['spectral_inf']\n",
    "print(len(spectral_inf))\n",
    "\n",
    "classList = [1,2,3,4,5,6]\n",
    "sample_percent = 0.1 # 每一类选取多少样本转换成landmine类别\n",
    "spectral_percent = 0.8 # landmine类别样本包含多少Painted metal sheets谱带\n",
    "\n",
    "for c in classList:\n",
    "    y, x = np.where(gt == c)\n",
    "    index = np.array([y, x]).T\n",
    "    np.random.shuffle(index)\n",
    "    \n",
    "    landmine_number = int(math.floor(index.shape[0] * sample_percent))\n",
    "    landmine_index = index[0:landmine_number, :]\n",
    "    \n",
    "    for item in landmine_index:\n",
    "        spectral_main = spectral_inf[random.randint(0,53240)]\n",
    "        data[item[0]][item[1]] = spectral_main * spectral_percent + \\\n",
    "                                    data[item[0]][item[1]] * (1-spectral_percent)\n",
    "        gt[item[0]][item[1]] = 7\n",
    "    print('class: {}, index.shape: {}, landmine_index.shape: {}'.\\\n",
    "                                      format(c, index.shape, landmine_index.shape)) "
   ]
  },
  {
   "cell_type": "code",
   "execution_count": 220,
   "metadata": {},
   "outputs": [
    {
     "name": "stdout",
     "output_type": "stream",
     "text": [
      "[0 1 2 3 4 5 6 7]\n"
     ]
    },
    {
     "data": {
      "image/png": "[encoded data removed]",
      "text/plain": [
       "<Figure size 432x288 with 1 Axes>"
      ]
     },
     "metadata": {
      "needs_background": "light"
     },
     "output_type": "display_data"
    }
   ],
   "source": [
    "print(np.unique(gt))\n",
    "vis(gt, '/home/xueyiming/Landmine/Data/crop_43/crop_43_landmine')"
   ]
  },
  {
   "cell_type": "code",
   "execution_count": 221,
   "metadata": {},
   "outputs": [],
   "source": [
    "sio.savemat('/home/xueyiming/Landmine/Data/crop_43/crop_43.mat', {'crop_43': data})\n",
    "sio.savemat('/home/xueyiming/Landmine/Data/crop_43/crop_43_gt.mat', {'crop_43_gt': gt})            "
   ]
  },
  {
   "cell_type": "markdown",
   "metadata": {},
   "source": [
    "### ELSE"
   ]
  },
  {
   "cell_type": "code",
   "execution_count": 97,
   "metadata": {},
   "outputs": [
    {
     "name": "stdout",
     "output_type": "stream",
     "text": [
      "[ 0  1  2  3  4  5  6  8  9 10 11 12 13 14 15 16]\n"
     ]
    }
   ],
   "source": [
    "# 去除gt中第7个类别，并将其变成第16个类别\n",
    "for i in range(gt.shape[0]):\n",
    "    for j in range(gt.shape[1]):\n",
    "        if gt[i][j] == 7:\n",
    "            gt[i][j] = 16 # 第16个类别是Painted metal sheets\n",
    "print(np.unique(gt))"
   ]
  },
  {
   "cell_type": "code",
   "execution_count": 136,
   "metadata": {},
   "outputs": [
    {
     "name": "stdout",
     "output_type": "stream",
     "text": [
      "211\n",
      "(2000, 2700)\n",
      "211\n"
     ]
    },
    {
     "data": {
      "image/png": "[encoded data removed]",
      "text/plain": [
       "<Figure size 432x288 with 1 Axes>"
      ]
     },
     "metadata": {
      "needs_background": "light"
     },
     "output_type": "display_data"
    }
   ],
   "source": [
    "data = sio.loadmat('/home/xueyiming/Landmine/Data/crop_43/crop_43.mat')['crop_43']\n",
    "gt = sio.loadmat('/home/xueyiming/Landmine/Data/crop_43/crop_43_gt.mat')['crop_43_gt']\n",
    "\n",
    "# 提取出Painted metal sheets的谱带信息\n",
    "spectral_inf = list()\n",
    "for i in range(gt.shape[0]):\n",
    "    for j in range(gt.shape[1]):\n",
    "        if gt[i][j] == 7:\n",
    "            spectral_inf.append(data[i][j])\n",
    "\n",
    "print(len(spectral_inf))\n",
    "print(gt.shape)\n",
    "            \n",
    "# 可视化所有Pained metal sheets的谱带分布，并选取其中一个作为spectral_main\n",
    "x = range(1, 64)\n",
    "for item in spectral_inf:\n",
    "    plt.plot(x, item, 'r-')\n",
    "print(len(spectral_inf))\n",
    "plt.plot(x, spectral_inf[100], 'b-')\n",
    "spectral_main = spectral_inf[100]\n",
    "\n",
    "# 将所有属于Painted sheet shell类别的光谱（spectral_inf）存储下来\n",
    "sio.savemat('/home/xueyiming/Landmine/Data/crop_43/spectral_inf.mat', {'spectral_inf':spectral_inf})"
   ]
  },
  {
   "cell_type": "code",
   "execution_count": 68,
   "metadata": {},
   "outputs": [
    {
     "name": "stdout",
     "output_type": "stream",
     "text": [
      "class: 1, number: 155256\n",
      "class: 2, number: 15102\n",
      "class: 3, number: 49588\n",
      "class: 4, number: 105375\n",
      "class: 5, number: 136773\n",
      "class: 6, number: 10957\n",
      "class: 7, number: 189116\n",
      "class: 8, number: 91988\n",
      "class: 9, number: 130545\n",
      "class: 10, number: 71796\n",
      "class: 11, number: 61817\n",
      "class: 12, number: 77404\n",
      "class: 13, number: 549938\n",
      "class: 14, number: 218267\n",
      "class: 15, number: 27300\n"
     ]
    }
   ],
   "source": [
    "for i in range(1, 16):\n",
    "    y, x = np.where(gt == i)\n",
    "    print('class: {}, number: {}'.format(i, x.shape[0]))"
   ]
  },
  {
   "cell_type": "code",
   "execution_count": 69,
   "metadata": {},
   "outputs": [],
   "source": [
    "sio.savemat('/home/xueyiming/Landmine/Data/crop_43/crop_43.mat', {'crop_43': data})\n",
    "sio.savemat('/home/xueyiming/Landmine/Data/crop_43/crop_43_gt.mat', {'crop_43_gt': gt})            "
   ]
  },
  {
   "cell_type": "code",
   "execution_count": 71,
   "metadata": {},
   "outputs": [],
   "source": [
    "temp = list()\n",
    "for i in range(gt.shape[0]):\n",
    "    for j in range(gt.shape[1]):\n",
    "        if gt[i][j] == 7:\n",
    "            temp.append(data[i][j])"
   ]
  },
  {
   "cell_type": "code",
   "execution_count": null,
   "metadata": {},
   "outputs": [],
   "source": []
  }
 ],
 "metadata": {
  "kernelspec": {
   "display_name": "Python 3",
   "language": "python",
   "name": "python3"
  },
  "language_info": {
   "codemirror_mode": {
    "name": "ipython",
    "version": 3
   },
   "file_extension": ".py",
   "mimetype": "text/x-python",
   "name": "python",
   "nbconvert_exporter": "python",
   "pygments_lexer": "ipython3",
   "version": "3.6.1"
  }
 },
 "nbformat": 4,
 "nbformat_minor": 2
}
