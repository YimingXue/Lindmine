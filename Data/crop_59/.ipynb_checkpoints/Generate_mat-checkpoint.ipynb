{
 "cells": [
  {
   "cell_type": "code",
   "execution_count": 1,
   "metadata": {},
   "outputs": [],
   "source": [
    "import scipy.io as sio\n",
    "import numpy as np\n",
    "import h5py"
   ]
  },
  {
   "cell_type": "code",
   "execution_count": 2,
   "metadata": {},
   "outputs": [],
   "source": [
    "crop_59_mat = h5py.File('crop_59.mat','r')\n",
    "crop_59 = crop_59_mat['data']"
   ]
  },
  {
   "cell_type": "code",
   "execution_count": 3,
   "metadata": {},
   "outputs": [],
   "source": [
    "crop_59 = np.array(crop_59)"
   ]
  },
  {
   "cell_type": "code",
   "execution_count": 4,
   "metadata": {},
   "outputs": [
    {
     "name": "stdout",
     "output_type": "stream",
     "text": [
      "(2100, 2840, 63)\n"
     ]
    }
   ],
   "source": [
    "type(crop_59)\n",
    "crop_59 = crop_59.transpose((2,1,0))\n",
    "print(crop_59.shape)"
   ]
  },
  {
   "cell_type": "code",
   "execution_count": 5,
   "metadata": {},
   "outputs": [],
   "source": [
    "sio.savemat('crop_59_1.mat',{'crop_59' : crop_59})"
   ]
  },
  {
   "cell_type": "code",
   "execution_count": 7,
   "metadata": {},
   "outputs": [],
   "source": [
    "crop_59_gt = sio.loadmat('crop_59_gt.mat')['patch_gt']\n",
    "sio.savemat('crop_59_gt.mat', {'crop_59_gt': crop_59_gt})"
   ]
  },
  {
   "cell_type": "markdown",
   "metadata": {},
   "source": [
    "### Test"
   ]
  },
  {
   "cell_type": "code",
   "execution_count": 8,
   "metadata": {},
   "outputs": [
    {
     "name": "stdout",
     "output_type": "stream",
     "text": [
      "(2100, 2840, 63)\n",
      "(2100, 2840)\n"
     ]
    }
   ],
   "source": [
    "crop_59 = sio.loadmat('crop_59.mat')['crop_59']\n",
    "print(crop_59.shape)\n",
    "crop_59_gt = sio.loadmat('crop_59_gt.mat')['crop_59_gt']\n",
    "print(crop_59_gt.shape)"
   ]
  }
 ],
 "metadata": {
  "kernelspec": {
   "display_name": "Python 3",
   "language": "python",
   "name": "python3"
  },
  "language_info": {
   "codemirror_mode": {
    "name": "ipython",
    "version": 3
   },
   "file_extension": ".py",
   "mimetype": "text/x-python",
   "name": "python",
   "nbconvert_exporter": "python",
   "pygments_lexer": "ipython3",
   "version": "3.7.1"
  }
 },
 "nbformat": 4,
 "nbformat_minor": 2
}
