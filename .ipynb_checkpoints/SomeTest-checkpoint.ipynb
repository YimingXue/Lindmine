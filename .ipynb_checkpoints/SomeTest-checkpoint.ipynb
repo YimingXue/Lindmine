{
 "cells": [
  {
   "cell_type": "code",
   "execution_count": 30,
   "metadata": {},
   "outputs": [],
   "source": [
    "import scipy.io as sio\n",
    "import sys\n",
    "import os\n",
    "import numpy as np\n",
    "from config import config"
   ]
  },
  {
   "cell_type": "code",
   "execution_count": 31,
   "metadata": {},
   "outputs": [
    {
     "name": "stdout",
     "output_type": "stream",
     "text": [
      "predicted_pixel_class shape is :(331551,)\n",
      "Height: 561, Width: 591\n"
     ]
    }
   ],
   "source": [
    "predicted_pixel_class = sio.loadmat('predicted_pixel_class.mat')['predicted_pixel_class']\n",
    "predicted_pixel_class = np.squeeze(predicted_pixel_class)\n",
    "print('predicted_pixel_class shape is :{}'.format(predicted_pixel_class.shape))\n",
    "\n",
    "path = os.path.join(os.getcwd(),'Data',config.dataset)\n",
    "mat_path = path + '/' + config.dataset\n",
    "mat_name = list(config.dataset); mat_name[0] = mat_name[0].lower(); mat_name = ''.join(mat_name)\n",
    "\n",
    "if config.dataset == 'Indian_pines_corrected':\n",
    "    target_mat = sio.loadmat(mat_path+'_gt.mat')['indian_pines_gt']\n",
    "else:\n",
    "    target_mat = sio.loadmat(mat_path+'_gt.mat')[mat_name+'_gt']\n",
    "\n",
    "Height, Width = target_mat.shape\n",
    "print('Height: {}, Width: {}'.format(Height, Width))\n",
    "assert Height*Width == predicted_pixel_class.shape[0]"
   ]
  },
  {
   "cell_type": "code",
   "execution_count": 33,
   "metadata": {},
   "outputs": [],
   "source": [
    "visible = np.zeros([Height, Width])\n",
    "for h in range(Height):\n",
    "    for w in range(Width):\n",
    "        visible[h][w] = predicted_pixel_class[h*Height+w]"
   ]
  },
  {
   "cell_type": "code",
   "execution_count": 36,
   "metadata": {},
   "outputs": [
    {
     "data": {
      "text/plain": [
       "array([0.])"
      ]
     },
     "execution_count": 36,
     "metadata": {},
     "output_type": "execute_result"
    }
   ],
   "source": [
    "np.unique(visible)"
   ]
  },
  {
   "cell_type": "code",
   "execution_count": 35,
   "metadata": {},
   "outputs": [
    {
     "data": {
      "text/plain": [
       "array([0, 1])"
      ]
     },
     "execution_count": 35,
     "metadata": {},
     "output_type": "execute_result"
    }
   ],
   "source": [
    "predicted_pixel_class = np.array(predicted_pixel_class)\n",
    "np.unique(predicted_pixel_class)"
   ]
  },
  {
   "cell_type": "code",
   "execution_count": null,
   "metadata": {},
   "outputs": [],
   "source": []
  }
 ],
 "metadata": {
  "kernelspec": {
   "display_name": "Python 3",
   "language": "python",
   "name": "python3"
  },
  "language_info": {
   "codemirror_mode": {
    "name": "ipython",
    "version": 3
   },
   "file_extension": ".py",
   "mimetype": "text/x-python",
   "name": "python",
   "nbconvert_exporter": "python",
   "pygments_lexer": "ipython3",
   "version": "3.7.1"
  }
 },
 "nbformat": 4,
 "nbformat_minor": 2
}
