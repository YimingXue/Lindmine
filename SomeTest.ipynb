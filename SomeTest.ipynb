{
 "cells": [
  {
   "cell_type": "code",
   "execution_count": 55,
   "metadata": {},
   "outputs": [
    {
     "name": "stdout",
     "output_type": "stream",
     "text": [
      "predicted_pixel_class shape is :(331551,)\n",
      "Height: 561, Width: 591\n"
     ]
    }
   ],
   "source": [
    "import scipy.io as sio\n",
    "import sys\n",
    "import os\n",
    "import numpy as np\n",
    "from config import config\n",
    "from PIL import Image\n",
    "from skimage import io\n",
    "\n",
    "predicted_pixel_class = sio.loadmat('predicted_pixel_class.mat')['predicted_pixel_class']\n",
    "predicted_pixel_class = np.squeeze(predicted_pixel_class)\n",
    "print('predicted_pixel_class shape is :{}'.format(predicted_pixel_class.shape))\n",
    "\n",
    "path = os.path.join(os.getcwd(),'Data',config.dataset)\n",
    "mat_path = path + '/' + config.dataset\n",
    "mat_name = list(config.dataset); mat_name[0] = mat_name[0].lower(); mat_name = ''.join(mat_name)\n",
    "\n",
    "if config.dataset == 'Indian_pines_corrected':\n",
    "    target_mat = sio.loadmat(mat_path+'_gt.mat')['indian_pines_gt']\n",
    "else:\n",
    "    target_mat = sio.loadmat(mat_path+'_gt.mat')[mat_name+'_gt']\n",
    "\n",
    "Height, Width = target_mat.shape\n",
    "print('Height: {}, Width: {}'.format(Height, Width))\n",
    "assert Height*Width == predicted_pixel_class.shape[0]\n",
    "\n",
    "visible = np.zeros([Height, Width])\n",
    "for h in range(Height):\n",
    "    for w in range(Width):\n",
    "        visible[h][w] = predicted_pixel_class[h*Height+w]"
   ]
  },
  {
   "cell_type": "code",
   "execution_count": 56,
   "metadata": {},
   "outputs": [
    {
     "name": "stdout",
     "output_type": "stream",
     "text": [
      "(561, 591)\n"
     ]
    },
    {
     "data": {
      "text/plain": [
       "array([  0., 255.])"
      ]
     },
     "execution_count": 56,
     "metadata": {},
     "output_type": "execute_result"
    }
   ],
   "source": [
    "visible = visible * 255\n",
    "print(visible.shape)\n",
    "np.unique(visible)"
   ]
  },
  {
   "cell_type": "code",
   "execution_count": 57,
   "metadata": {},
   "outputs": [],
   "source": [
    "image = Image.fromarray(visible)\n",
    "image.show()"
   ]
  },
  {
   "cell_type": "code",
   "execution_count": null,
   "metadata": {},
   "outputs": [],
   "source": []
  }
 ],
 "metadata": {
  "kernelspec": {
   "display_name": "Python 3",
   "language": "python",
   "name": "python3"
  },
  "language_info": {
   "codemirror_mode": {
    "name": "ipython",
    "version": 3
   },
   "file_extension": ".py",
   "mimetype": "text/x-python",
   "name": "python",
   "nbconvert_exporter": "python",
   "pygments_lexer": "ipython3",
   "version": "3.7.1"
  }
 },
 "nbformat": 4,
 "nbformat_minor": 2
}
